{
 "cells": [
  {
   "cell_type": "code",
   "execution_count": 1,
   "metadata": {},
   "outputs": [],
   "source": [
    "########### Grading Program ###########\n",
    "\n",
    "# Author: Emin Kartci\n",
    "# Date  : 12 Feb 2021\n",
    "# GitHub: eminkartci\n",
    "\n",
    "########### All Rights are Reserved @2021 ###########"
   ]
  },
  {
   "cell_type": "code",
   "execution_count": 16,
   "metadata": {},
   "outputs": [
    {
     "name": "stdout",
     "output_type": "stream",
     "text": [
      "########### Grading Program ###########\n",
      "\n",
      "\n",
      "Midterm 1: 99\n",
      "Midterm 2: 99\n",
      "Final    : 100\n",
      "First Midterm Grade : 99.0\n",
      "Second Midterm Grade: 99.0\n",
      "Final Grade         : 100.0\n",
      "-------------------------\n",
      "Average             : 99.33333333333333\n",
      "Letter Grade        : A\n",
      "\n"
     ]
    }
   ],
   "source": [
    "# This program prints Hello, world!\n",
    "\n",
    "print('########### Grading Program ###########\\n\\n')\n",
    "\n",
    "midtermGrade1 = float(input(\"Midterm 1: \"))\n",
    "midtermGrade2 = float(input(\"Midterm 2: \"))\n",
    "finalGrade2   = float(input(\"Final    : \"))\n",
    "\n",
    "averageGrade  = (midtermGrade1 + midtermGrade2 + finalGrade2) / 3\n",
    "\n",
    "if averageGrade > 90:\n",
    "    letterGrade = \"A\"\n",
    "elif averageGrade > 80:\n",
    "    letterGrade = \"B\"\n",
    "elif averageGrade > 70:\n",
    "    letterGrade = \"C\"\n",
    "elif averageGrade > 60:\n",
    "    letterGrade = \"D\"\n",
    "elif averageGrade > 50:\n",
    "    letterGrade = \"F\"\n",
    "    \n",
    "output = \"\"\"First Midterm Grade : {}\n",
    "Second Midterm Grade: {}\n",
    "Final Grade         : {}\n",
    "-------------------------\n",
    "Average             : {}\n",
    "Letter Grade        : {}\n",
    "\"\"\".format(midtermGrade1,midtermGrade2,finalGrade2,averageGrade,letterGrade)\n",
    "\n",
    "print(output)\n"
   ]
  },
  {
   "cell_type": "code",
   "execution_count": null,
   "metadata": {},
   "outputs": [],
   "source": []
  }
 ],
 "metadata": {
  "kernelspec": {
   "display_name": "Python 3",
   "language": "python",
   "name": "python3"
  },
  "language_info": {
   "codemirror_mode": {
    "name": "ipython",
    "version": 3
   },
   "file_extension": ".py",
   "mimetype": "text/x-python",
   "name": "python",
   "nbconvert_exporter": "python",
   "pygments_lexer": "ipython3",
   "version": "3.8.5"
  }
 },
 "nbformat": 4,
 "nbformat_minor": 4
}
